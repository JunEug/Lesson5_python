{
 "cells": [
  {
   "cell_type": "code",
   "execution_count": 14,
   "id": "500c575a",
   "metadata": {},
   "outputs": [
    {
     "name": "stdout",
     "output_type": "stream",
     "text": [
      "АБ22ВВ193\n"
     ]
    },
    {
     "data": {
      "text/plain": [
       "'Номер не валиден.'"
      ]
     },
     "execution_count": 14,
     "metadata": {},
     "output_type": "execute_result"
    }
   ],
   "source": [
    "import re\n",
    "\n",
    "def validate_car_id(car_id):\n",
    "    pattern = r'^[АВЕКМНОРСТУХABEKMHOPCTYX]{1}\\d{3}[АВЕКМНОРСТУХABEKMHOPCTYX]{2}\\d{2,3}$'\n",
    "    if re.match(pattern, car_id):\n",
    "        number = car_id[:-2]  # Получаем номер без региона\n",
    "        region = car_id[-2:]  # Получаем регион\n",
    "        return f\"Номер {number} валиден. Регион: {region}.\"\n",
    "    else:\n",
    "        return \"Номер не валиден.\"\n",
    "\n",
    "check = input()\n",
    "validate_car_id(check)"
   ]
  },
  {
   "cell_type": "code",
   "execution_count": 18,
   "id": "8350b8fb",
   "metadata": {},
   "outputs": [
    {
     "name": "stdout",
     "output_type": "stream",
     "text": [
      "Введите строку: Привет привет\n",
      "Результат: Привет\n"
     ]
    }
   ],
   "source": [
    "import re\n",
    "\n",
    "def remove_consecutive_duplicates(input_string):\n",
    "    pattern = r'\\b(\\w+)(?:\\s+\\1\\b)+'\n",
    "    result_string = re.sub(pattern, r'\\1', input_string, flags=re.IGNORECASE)\n",
    "    return result_string\n",
    "\n",
    "input_string = input(\"Введите строку: \")\n",
    "\n",
    "output_string = remove_consecutive_duplicates(input_string)\n",
    "print(\"Результат:\", output_string)"
   ]
  },
  {
   "cell_type": "code",
   "execution_count": null,
   "id": "fb645558",
   "metadata": {},
   "outputs": [],
   "source": []
  }
 ],
 "metadata": {
  "kernelspec": {
   "display_name": "Python 3 (ipykernel)",
   "language": "python",
   "name": "python3"
  },
  "language_info": {
   "codemirror_mode": {
    "name": "ipython",
    "version": 3
   },
   "file_extension": ".py",
   "mimetype": "text/x-python",
   "name": "python",
   "nbconvert_exporter": "python",
   "pygments_lexer": "ipython3",
   "version": "3.11.5"
  }
 },
 "nbformat": 4,
 "nbformat_minor": 5
}
